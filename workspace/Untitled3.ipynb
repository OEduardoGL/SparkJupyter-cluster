{
 "cells": [
  {
   "cell_type": "code",
   "execution_count": 2,
   "id": "b6ddae9e-64f0-434b-90bf-c4094a243616",
   "metadata": {},
   "outputs": [
    {
     "name": "stdout",
     "output_type": "stream",
     "text": [
      "+---+\n",
      "| id|\n",
      "+---+\n",
      "|  0|\n",
      "|  1|\n",
      "|  2|\n",
      "|  3|\n",
      "|  4|\n",
      "+---+\n",
      "\n"
     ]
    }
   ],
   "source": [
    "from pyspark.sql import SparkSession\n",
    "spark = SparkSession.builder.appName(\"Test\").getOrCreate()\n",
    "spark.range(5).show()\n"
   ]
  },
  {
   "cell_type": "code",
   "execution_count": 3,
   "id": "81efb742-0314-4e18-a555-1dca72828df7",
   "metadata": {},
   "outputs": [
    {
     "name": "stdout",
     "output_type": "stream",
     "text": [
      "+----------+-------------+--------------------+-----------------------------------------------------------+------------------+--------------+----------------+-----------+-----------+--------------------+----------------+----------------------------------------------------------------------------+----------------------------------------+------------+---------------------------+--------+---------------------------------------------------------------------+\n",
      "|DTADMISSAO|CDTIPOCALCULO|CDTIPOFOLHAPAGAMENTO|CAPA.NUGRUPOSALARIAL||CAPA.NUNIVELCEF||CAPA.NUREFERENCIACEF|NUANOMESREFERENCIA|FLFOLHAFECHADA|CDFOLHAPAGAMENTO|VLPROVENTOS|VLDESCONTOS|CDRUBRICAAGRUPAMENTO|DETIPORUBRICAPDT|NMORGAO                                                                     |NMRUBRICA                               |NUMATRICULA |NMSERVIDOR                 |VLTOTAL |NMCENTROCUSTO                                                        |\n",
      "+----------+-------------+--------------------+-----------------------------------------------------------+------------------+--------------+----------------+-----------+-----------+--------------------+----------------+----------------------------------------------------------------------------+----------------------------------------+------------+---------------------------+--------+---------------------------------------------------------------------+\n",
      "|14/08/78  |1            |2                   |MG43A02                                                    |199101            |S             |56236           |54458,65   |5393,39    |729                 |P               |EGM-ENCARGOS GERAIS DO MUNICIPIO                                            |01-0101 - VENCIMENTO FIXO               |0013551-8-01|ABAETE BERTOLDO DE VIVEIROS|25139,45|360000 - PENSAO ESPECIAL/EDILICA OU SERVENTUARIOS DA JUSTICA         |\n",
      "|14/08/78  |1            |2                   |MG43A02                                                    |199101            |S             |56236           |54458,65   |5393,39    |252                 |P               |EGM-ENCARGOS GERAIS DO MUNICIPIO                                            |01-0181 - GRATIFICACAO                  |0013551-8-01|ABAETE BERTOLDO DE VIVEIROS|1139,91 |360000 - PENSAO ESPECIAL/EDILICA OU SERVENTUARIOS DA JUSTICA         |\n",
      "|14/08/78  |1            |2                   |MG43A02                                                    |199101            |S             |56236           |54458,65   |5393,39    |252                 |P               |EGM-ENCARGOS GERAIS DO MUNICIPIO                                            |01-0181 - GRATIFICACAO                  |0013551-8-01|ABAETE BERTOLDO DE VIVEIROS|25139,45|360000 - PENSAO ESPECIAL/EDILICA OU SERVENTUARIOS DA JUSTICA         |\n",
      "|14/08/78  |1            |2                   |MG43A02                                                    |199101            |S             |56236           |54458,65   |5393,39    |490                 |P               |EGM-ENCARGOS GERAIS DO MUNICIPIO                                            |01-0192 - QUINQUENIOS                   |0013551-8-01|ABAETE BERTOLDO DE VIVEIROS|2513,94 |360000 - PENSAO ESPECIAL/EDILICA OU SERVENTUARIOS DA JUSTICA         |\n",
      "|14/08/78  |1            |2                   |MG43A02                                                    |199101            |S             |56236           |54458,65   |5393,39    |495                 |P               |EGM-ENCARGOS GERAIS DO MUNICIPIO                                            |01-0195 - SALARIO FAMILIA               |0013551-8-01|ABAETE BERTOLDO DE VIVEIROS|525,9   |360000 - PENSAO ESPECIAL/EDILICA OU SERVENTUARIOS DA JUSTICA         |\n",
      "|14/08/78  |1            |2                   |MG43A02                                                    |199101            |S             |56236           |54458,65   |5393,39    |1188                |D               |EGM-ENCARGOS GERAIS DO MUNICIPIO                                            |05-0698 - INSS INSTITUTO NAC SEG SOCIAL |0013551-8-01|ABAETE BERTOLDO DE VIVEIROS|5393,27 |360000 - PENSAO ESPECIAL/EDILICA OU SERVENTUARIOS DA JUSTICA         |\n",
      "|14/08/78  |1            |2                   |MG43A02                                                    |199101            |S             |56236           |54458,65   |5393,39    |3039                |D               |EGM-ENCARGOS GERAIS DO MUNICIPIO                                            |05-8009 - ASSEFE - ASS. SERVIDORES FEMAC|0013551-8-01|ABAETE BERTOLDO DE VIVEIROS|0,12    |360000 - PENSAO ESPECIAL/EDILICA OU SERVENTUARIOS DA JUSTICA         |\n",
      "|09/07/62  |1            |2                   |NE01A01                                                    |199101            |S             |56236           |25267,48   |2021,39    |490                 |P               |EGM-ENCARGOS GERAIS DO MUNICIPIO                                            |01-0192 - QUINQUENIOS                   |0000600-9-01|ABDON COSTA                |3081,4  |360000 - PENSAO ESPECIAL/EDILICA OU SERVENTUARIOS DA JUSTICA         |\n",
      "|09/07/62  |1            |2                   |NE01A01                                                    |199101            |S             |56236           |25267,48   |2021,39    |252                 |P               |EGM-ENCARGOS GERAIS DO MUNICIPIO                                            |01-0181 - GRATIFICACAO                  |0000600-9-01|ABDON COSTA                |9860,48 |360000 - PENSAO ESPECIAL/EDILICA OU SERVENTUARIOS DA JUSTICA         |\n",
      "|09/07/62  |1            |2                   |NE01A01                                                    |199101            |S             |56236           |25267,48   |2021,39    |729                 |P               |EGM-ENCARGOS GERAIS DO MUNICIPIO                                            |01-0101 - VENCIMENTO FIXO               |0000600-9-01|ABDON COSTA                |12325,6 |360000 - PENSAO ESPECIAL/EDILICA OU SERVENTUARIOS DA JUSTICA         |\n",
      "|09/07/62  |1            |2                   |NE01A01                                                    |199101            |S             |56236           |25267,48   |2021,39    |1188                |D               |EGM-ENCARGOS GERAIS DO MUNICIPIO                                            |05-0698 - INSS INSTITUTO NAC SEG SOCIAL |0000600-9-01|ABDON COSTA                |2021,39 |360000 - PENSAO ESPECIAL/EDILICA OU SERVENTUARIOS DA JUSTICA         |\n",
      "|12/07/85  |1            |2                   |CM08801                                                    |199101            |S             |56243           |14268,39   |1141,47    |490                 |P               |COMARHP - COMPANHIA MUNICIPAL DE ADMINISTRACAO RECURSOS HUMANOS E PATRIMONIO|01-0192 - QUINQUENIOS                   |0012773-6-01|ABEL BEZERRA DA SILVA      |679,44  |479000 - COMARHP-COMPANHIA MUN ADMINISTRACAO REC HUMANOS E PATRIMONIO|\n",
      "|12/07/85  |1            |2                   |CM08801                                                    |199101            |S             |56243           |14268,39   |1141,47    |729                 |P               |COMARHP - COMPANHIA MUNICIPAL DE ADMINISTRACAO RECURSOS HUMANOS E PATRIMONIO|01-0101 - VENCIMENTO FIXO               |0012773-6-01|ABEL BEZERRA DA SILVA      |13588,95|479000 - COMARHP-COMPANHIA MUN ADMINISTRACAO REC HUMANOS E PATRIMONIO|\n",
      "|12/07/85  |1            |2                   |CM08801                                                    |199101            |S             |56243           |14268,39   |1141,47    |1188                |D               |COMARHP - COMPANHIA MUNICIPAL DE ADMINISTRACAO RECURSOS HUMANOS E PATRIMONIO|05-0698 - INSS INSTITUTO NAC SEG SOCIAL |0012773-6-01|ABEL BEZERRA DA SILVA      |1141,47 |479000 - COMARHP-COMPANHIA MUN ADMINISTRACAO REC HUMANOS E PATRIMONIO|\n",
      "|22/03/67  |1            |2                   |NE01A01                                                    |199101            |S             |56236           |24541,84   |1169,03    |495                 |P               |EGM-ENCARGOS GERAIS DO MUNICIPIO                                            |01-0195 - SALARIO FAMILIA               |0001339-0-01|ABELARDO ALVES DE OLIVEIRA |3081,4  |360000 - PENSAO ESPECIAL/EDILICA OU SERVENTUARIOS DA JUSTICA         |\n",
      "|22/03/67  |1            |2                   |NE01A01                                                    |199101            |S             |56236           |24541,84   |1169,03    |485                 |P               |EGM-ENCARGOS GERAIS DO MUNICIPIO                                            |01-0190 - ANUENIO                       |0001339-0-01|ABELARDO ALVES DE OLIVEIRA |2799,79 |360000 - PENSAO ESPECIAL/EDILICA OU SERVENTUARIOS DA JUSTICA         |\n",
      "|22/03/67  |1            |2                   |NE01A01                                                    |199101            |S             |56236           |24541,84   |1169,03    |252                 |P               |EGM-ENCARGOS GERAIS DO MUNICIPIO                                            |01-0181 - GRATIFICACAO                  |0001339-0-01|ABELARDO ALVES DE OLIVEIRA |4661,66 |360000 - PENSAO ESPECIAL/EDILICA OU SERVENTUARIOS DA JUSTICA         |\n",
      "|22/03/67  |1            |2                   |NE01A01                                                    |199101            |S             |56236           |24541,84   |1169,03    |729                 |P               |EGM-ENCARGOS GERAIS DO MUNICIPIO                                            |01-0101 - VENCIMENTO FIXO               |0001339-0-01|ABELARDO ALVES DE OLIVEIRA |13998,99|360000 - PENSAO ESPECIAL/EDILICA OU SERVENTUARIOS DA JUSTICA         |\n",
      "|22/03/67  |1            |2                   |NE01A01                                                    |199101            |S             |56236           |24541,84   |1169,03    |1185                |D               |EGM-ENCARGOS GERAIS DO MUNICIPIO                                            |05-0697 - IPREV-INSTITUTO DE PREVIDENCIA|0001339-0-01|ABELARDO ALVES DE OLIVEIRA |1007,92 |360000 - PENSAO ESPECIAL/EDILICA OU SERVENTUARIOS DA JUSTICA         |\n",
      "|22/03/67  |1            |2                   |NE01A01                                                    |199101            |S             |56236           |24541,84   |1169,03    |1023                |D               |EGM-ENCARGOS GERAIS DO MUNICIPIO                                            |05-0300 - CONT.SINDPREF                 |0001339-0-01|ABELARDO ALVES DE OLIVEIRA |140     |360000 - PENSAO ESPECIAL/EDILICA OU SERVENTUARIOS DA JUSTICA         |\n",
      "+----------+-------------+--------------------+-----------------------------------------------------------+------------------+--------------+----------------+-----------+-----------+--------------------+----------------+----------------------------------------------------------------------------+----------------------------------------+------------+---------------------------+--------+---------------------------------------------------------------------+\n",
      "only showing top 20 rows\n",
      "\n"
     ]
    }
   ],
   "source": [
    "df_s = spark.read \\\n",
    "    .option(\"header\", True) \\\n",
    "    .option(\"inferSchema\", False) \\\n",
    "    .option(\"sep\", \";\") \\\n",
    "    .csv(\"todos.dsv\")\n",
    "\n",
    "df_s.show(20, truncate=False)"
   ]
  },
  {
   "cell_type": "code",
   "execution_count": 4,
   "id": "389897ae-09ad-40e3-8f3f-4bd3e9867d00",
   "metadata": {},
   "outputs": [
    {
     "name": "stdout",
     "output_type": "stream",
     "text": [
      "root\n",
      " |-- DTADMISSAO: string (nullable = true)\n",
      " |-- CDTIPOCALCULO: string (nullable = true)\n",
      " |-- CDTIPOFOLHAPAGAMENTO: string (nullable = true)\n",
      " |-- CAPA.NUGRUPOSALARIAL||CAPA.NUNIVELCEF||CAPA.NUREFERENCIACEF: string (nullable = true)\n",
      " |-- NUANOMESREFERENCIA: string (nullable = true)\n",
      " |-- FLFOLHAFECHADA: string (nullable = true)\n",
      " |-- CDFOLHAPAGAMENTO: string (nullable = true)\n",
      " |-- VLPROVENTOS: string (nullable = true)\n",
      " |-- VLDESCONTOS: string (nullable = true)\n",
      " |-- CDRUBRICAAGRUPAMENTO: string (nullable = true)\n",
      " |-- DETIPORUBRICAPDT: string (nullable = true)\n",
      " |-- NMORGAO: string (nullable = true)\n",
      " |-- NMRUBRICA: string (nullable = true)\n",
      " |-- NUMATRICULA: string (nullable = true)\n",
      " |-- NMSERVIDOR: string (nullable = true)\n",
      " |-- VLTOTAL: string (nullable = true)\n",
      " |-- NMCENTROCUSTO: string (nullable = true)\n",
      "\n"
     ]
    }
   ],
   "source": [
    "df_s.printSchema()"
   ]
  },
  {
   "cell_type": "code",
   "execution_count": null,
   "id": "6cd99fd3-93fd-4876-bb71-63ae2810f8d8",
   "metadata": {},
   "outputs": [],
   "source": []
  }
 ],
 "metadata": {
  "kernelspec": {
   "display_name": "Python 3 (ipykernel)",
   "language": "python",
   "name": "python3"
  },
  "language_info": {
   "codemirror_mode": {
    "name": "ipython",
    "version": 3
   },
   "file_extension": ".py",
   "mimetype": "text/x-python",
   "name": "python",
   "nbconvert_exporter": "python",
   "pygments_lexer": "ipython3",
   "version": "3.8.17"
  }
 },
 "nbformat": 4,
 "nbformat_minor": 5
}
