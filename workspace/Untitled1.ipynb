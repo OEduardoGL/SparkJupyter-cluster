{
 "cells": [
  {
   "cell_type": "code",
   "execution_count": 3,
   "id": "598e77eb-463d-4caf-a9e6-9911b0e5b03d",
   "metadata": {},
   "outputs": [
    {
     "name": "stdout",
     "output_type": "stream",
     "text": [
      "40414850 todos.dsv\n"
     ]
    }
   ],
   "source": [
    "!wc -l todos.dsv\n"
   ]
  },
  {
   "cell_type": "code",
   "execution_count": 2,
   "id": "27aa0d0d-5b38-414e-8b2a-0b9358e3d1ad",
   "metadata": {},
   "outputs": [
    {
     "name": "stdout",
     "output_type": "stream",
     "text": [
      "Collecting pandas\n",
      "  Downloading pandas-2.0.3-cp38-cp38-manylinux_2_17_x86_64.manylinux2014_x86_64.whl (12.4 MB)\n",
      "\u001b[2K     \u001b[90m━━━━━━━━━━━━━━━━━━━━━━━━━━━━━━━━━━━━━━━━\u001b[0m \u001b[32m12.4/12.4 MB\u001b[0m \u001b[31m6.9 MB/s\u001b[0m eta \u001b[36m0:00:00\u001b[0m00:01\u001b[0m00:01\u001b[0m\n",
      "\u001b[?25hRequirement already satisfied: pytz>=2020.1 in /usr/local/lib/python3.8/site-packages (from pandas) (2025.2)\n",
      "Collecting tzdata>=2022.1\n",
      "  Downloading tzdata-2025.2-py2.py3-none-any.whl (347 kB)\n",
      "\u001b[2K     \u001b[90m━━━━━━━━━━━━━━━━━━━━━━━━━━━━━━━━━━━━━━━\u001b[0m \u001b[32m347.8/347.8 kB\u001b[0m \u001b[31m9.3 MB/s\u001b[0m eta \u001b[36m0:00:00\u001b[0ma \u001b[36m0:00:01\u001b[0m\n",
      "\u001b[?25hRequirement already satisfied: python-dateutil>=2.8.2 in /usr/local/lib/python3.8/site-packages (from pandas) (2.9.0.post0)\n",
      "Collecting numpy>=1.20.3\n",
      "  Downloading numpy-1.24.4-cp38-cp38-manylinux_2_17_x86_64.manylinux2014_x86_64.whl (17.3 MB)\n",
      "\u001b[2K     \u001b[90m━━━━━━━━━━━━━━━━━━━━━━━━━━━━━━━━━━━━━━━━\u001b[0m \u001b[32m17.3/17.3 MB\u001b[0m \u001b[31m4.6 MB/s\u001b[0m eta \u001b[36m0:00:00\u001b[0m00:01\u001b[0m00:01\u001b[0m\n",
      "\u001b[?25hRequirement already satisfied: six>=1.5 in /usr/local/lib/python3.8/site-packages (from python-dateutil>=2.8.2->pandas) (1.17.0)\n",
      "Installing collected packages: tzdata, numpy, pandas\n",
      "Successfully installed numpy-1.24.4 pandas-2.0.3 tzdata-2025.2\n",
      "\u001b[33mWARNING: Running pip as the 'root' user can result in broken permissions and conflicting behaviour with the system package manager. It is recommended to use a virtual environment instead: https://pip.pypa.io/warnings/venv\u001b[0m\u001b[33m\n",
      "\u001b[0m\n",
      "\u001b[1m[\u001b[0m\u001b[34;49mnotice\u001b[0m\u001b[1;39;49m]\u001b[0m\u001b[39;49m A new release of pip is available: \u001b[0m\u001b[31;49m23.0.1\u001b[0m\u001b[39;49m -> \u001b[0m\u001b[32;49m25.0.1\u001b[0m\n",
      "\u001b[1m[\u001b[0m\u001b[34;49mnotice\u001b[0m\u001b[1;39;49m]\u001b[0m\u001b[39;49m To update, run: \u001b[0m\u001b[32;49mpip install --upgrade pip\u001b[0m\n"
     ]
    }
   ],
   "source": [
    "!pip install pandas"
   ]
  },
  {
   "cell_type": "code",
   "execution_count": 3,
   "id": "e7a44d40-f953-484c-a604-77a52609a694",
   "metadata": {},
   "outputs": [
    {
     "data": {
      "text/plain": [
       "((10, 17),\n",
       "   DTADMISSAO CDTIPOCALCULO CDTIPOFOLHAPAGAMENTO  \\\n",
       " 0   14/08/78             1                    2   \n",
       " 1   14/08/78             1                    2   \n",
       " 2   14/08/78             1                    2   \n",
       " 3   14/08/78             1                    2   \n",
       " 4   14/08/78             1                    2   \n",
       " \n",
       "   CAPA.NUGRUPOSALARIAL||CAPA.NUNIVELCEF||CAPA.NUREFERENCIACEF  \\\n",
       " 0                                          \"MG43A02\"            \n",
       " 1                                          \"MG43A02\"            \n",
       " 2                                          \"MG43A02\"            \n",
       " 3                                          \"MG43A02\"            \n",
       " 4                                          \"MG43A02\"            \n",
       " \n",
       "   NUANOMESREFERENCIA FLFOLHAFECHADA CDFOLHAPAGAMENTO VLPROVENTOS VLDESCONTOS  \\\n",
       " 0             199101            \"S\"            56236    54458,65     5393,39   \n",
       " 1             199101            \"S\"            56236    54458,65     5393,39   \n",
       " 2             199101            \"S\"            56236    54458,65     5393,39   \n",
       " 3             199101            \"S\"            56236    54458,65     5393,39   \n",
       " 4             199101            \"S\"            56236    54458,65     5393,39   \n",
       " \n",
       "   CDRUBRICAAGRUPAMENTO DETIPORUBRICAPDT                             NMORGAO  \\\n",
       " 0                  729              \"P\"  \"EGM-ENCARGOS GERAIS DO MUNICIPIO\"   \n",
       " 1                  252              \"P\"  \"EGM-ENCARGOS GERAIS DO MUNICIPIO\"   \n",
       " 2                  252              \"P\"  \"EGM-ENCARGOS GERAIS DO MUNICIPIO\"   \n",
       " 3                  490              \"P\"  \"EGM-ENCARGOS GERAIS DO MUNICIPIO\"   \n",
       " 4                  495              \"P\"  \"EGM-ENCARGOS GERAIS DO MUNICIPIO\"   \n",
       " \n",
       "                      NMRUBRICA     NUMATRICULA                     NMSERVIDOR  \\\n",
       " 0  \"01-0101 - VENCIMENTO FIXO\"  \"0013551-8-01\"  \"ABAETE BERTOLDO DE VIVEIROS\"   \n",
       " 1     \"01-0181 - GRATIFICACAO\"  \"0013551-8-01\"  \"ABAETE BERTOLDO DE VIVEIROS\"   \n",
       " 2     \"01-0181 - GRATIFICACAO\"  \"0013551-8-01\"  \"ABAETE BERTOLDO DE VIVEIROS\"   \n",
       " 3      \"01-0192 - QUINQUENIOS\"  \"0013551-8-01\"  \"ABAETE BERTOLDO DE VIVEIROS\"   \n",
       " 4  \"01-0195 - SALARIO FAMILIA\"  \"0013551-8-01\"  \"ABAETE BERTOLDO DE VIVEIROS\"   \n",
       " \n",
       "     VLTOTAL                                      NMCENTROCUSTO  \n",
       " 0  25139,45  \"360000 - PENSAO ESPECIAL/EDILICA OU SERVENTUA...  \n",
       " 1   1139,91  \"360000 - PENSAO ESPECIAL/EDILICA OU SERVENTUA...  \n",
       " 2  25139,45  \"360000 - PENSAO ESPECIAL/EDILICA OU SERVENTUA...  \n",
       " 3   2513,94  \"360000 - PENSAO ESPECIAL/EDILICA OU SERVENTUA...  \n",
       " 4     525,9  \"360000 - PENSAO ESPECIAL/EDILICA OU SERVENTUA...  )"
      ]
     },
     "execution_count": 3,
     "metadata": {},
     "output_type": "execute_result"
    }
   ],
   "source": [
    "import pandas as pd\n",
    "\n",
    "sep_pattern = r';(?=(?:[^\"]*\"[^\"]*\")*[^\"]*$)'\n",
    "\n",
    "# lê só as 10 primeiras linhas para testar\n",
    "df_test = pd.read_csv(\n",
    "    \"todos.dsv\",\n",
    "    sep=sep_pattern,\n",
    "    engine=\"python\",\n",
    "    header=0,\n",
    "    dtype=str,\n",
    "    nrows=10\n",
    ")\n",
    "df_test.columns = df_test.columns.str.strip('\"')\n",
    "\n",
    "df_test.shape, df_test.head()\n"
   ]
  },
  {
   "cell_type": "code",
   "execution_count": 4,
   "id": "f0bd4e46-040d-4998-8652-259a72f45de1",
   "metadata": {},
   "outputs": [
    {
     "name": "stdout",
     "output_type": "stream",
     "text": [
      "  DTADMISSAO CDTIPOCALCULO CDTIPOFOLHAPAGAMENTO  \\\n",
      "0   14/08/78             1                    2   \n",
      "1   14/08/78             1                    2   \n",
      "2   14/08/78             1                    2   \n",
      "3   14/08/78             1                    2   \n",
      "4   14/08/78             1                    2   \n",
      "5   14/08/78             1                    2   \n",
      "6   14/08/78             1                    2   \n",
      "7   09/07/62             1                    2   \n",
      "8   09/07/62             1                    2   \n",
      "9   09/07/62             1                    2   \n",
      "\n",
      "  CAPA.NUGRUPOSALARIAL||CAPA.NUNIVELCEF||CAPA.NUREFERENCIACEF  \\\n",
      "0                                          \"MG43A02\"            \n",
      "1                                          \"MG43A02\"            \n",
      "2                                          \"MG43A02\"            \n",
      "3                                          \"MG43A02\"            \n",
      "4                                          \"MG43A02\"            \n",
      "5                                          \"MG43A02\"            \n",
      "6                                          \"MG43A02\"            \n",
      "7                                          \"NE01A01\"            \n",
      "8                                          \"NE01A01\"            \n",
      "9                                          \"NE01A01\"            \n",
      "\n",
      "  NUANOMESREFERENCIA FLFOLHAFECHADA CDFOLHAPAGAMENTO VLPROVENTOS VLDESCONTOS  \\\n",
      "0             199101            \"S\"            56236    54458,65     5393,39   \n",
      "1             199101            \"S\"            56236    54458,65     5393,39   \n",
      "2             199101            \"S\"            56236    54458,65     5393,39   \n",
      "3             199101            \"S\"            56236    54458,65     5393,39   \n",
      "4             199101            \"S\"            56236    54458,65     5393,39   \n",
      "5             199101            \"S\"            56236    54458,65     5393,39   \n",
      "6             199101            \"S\"            56236    54458,65     5393,39   \n",
      "7             199101            \"S\"            56236    25267,48     2021,39   \n",
      "8             199101            \"S\"            56236    25267,48     2021,39   \n",
      "9             199101            \"S\"            56236    25267,48     2021,39   \n",
      "\n",
      "  CDRUBRICAAGRUPAMENTO DETIPORUBRICAPDT                             NMORGAO  \\\n",
      "0                  729              \"P\"  \"EGM-ENCARGOS GERAIS DO MUNICIPIO\"   \n",
      "1                  252              \"P\"  \"EGM-ENCARGOS GERAIS DO MUNICIPIO\"   \n",
      "2                  252              \"P\"  \"EGM-ENCARGOS GERAIS DO MUNICIPIO\"   \n",
      "3                  490              \"P\"  \"EGM-ENCARGOS GERAIS DO MUNICIPIO\"   \n",
      "4                  495              \"P\"  \"EGM-ENCARGOS GERAIS DO MUNICIPIO\"   \n",
      "5                 1188              \"D\"  \"EGM-ENCARGOS GERAIS DO MUNICIPIO\"   \n",
      "6                 3039              \"D\"  \"EGM-ENCARGOS GERAIS DO MUNICIPIO\"   \n",
      "7                  490              \"P\"  \"EGM-ENCARGOS GERAIS DO MUNICIPIO\"   \n",
      "8                  252              \"P\"  \"EGM-ENCARGOS GERAIS DO MUNICIPIO\"   \n",
      "9                  729              \"P\"  \"EGM-ENCARGOS GERAIS DO MUNICIPIO\"   \n",
      "\n",
      "                                    NMRUBRICA     NUMATRICULA  \\\n",
      "0                 \"01-0101 - VENCIMENTO FIXO\"  \"0013551-8-01\"   \n",
      "1                    \"01-0181 - GRATIFICACAO\"  \"0013551-8-01\"   \n",
      "2                    \"01-0181 - GRATIFICACAO\"  \"0013551-8-01\"   \n",
      "3                     \"01-0192 - QUINQUENIOS\"  \"0013551-8-01\"   \n",
      "4                 \"01-0195 - SALARIO FAMILIA\"  \"0013551-8-01\"   \n",
      "5   \"05-0698 - INSS INSTITUTO NAC SEG SOCIAL\"  \"0013551-8-01\"   \n",
      "6  \"05-8009 - ASSEFE - ASS. SERVIDORES FEMAC\"  \"0013551-8-01\"   \n",
      "7                     \"01-0192 - QUINQUENIOS\"  \"0000600-9-01\"   \n",
      "8                    \"01-0181 - GRATIFICACAO\"  \"0000600-9-01\"   \n",
      "9                 \"01-0101 - VENCIMENTO FIXO\"  \"0000600-9-01\"   \n",
      "\n",
      "                      NMSERVIDOR   VLTOTAL  \\\n",
      "0  \"ABAETE BERTOLDO DE VIVEIROS\"  25139,45   \n",
      "1  \"ABAETE BERTOLDO DE VIVEIROS\"   1139,91   \n",
      "2  \"ABAETE BERTOLDO DE VIVEIROS\"  25139,45   \n",
      "3  \"ABAETE BERTOLDO DE VIVEIROS\"   2513,94   \n",
      "4  \"ABAETE BERTOLDO DE VIVEIROS\"     525,9   \n",
      "5  \"ABAETE BERTOLDO DE VIVEIROS\"   5393,27   \n",
      "6  \"ABAETE BERTOLDO DE VIVEIROS\"      0,12   \n",
      "7                  \"ABDON COSTA\"    3081,4   \n",
      "8                  \"ABDON COSTA\"   9860,48   \n",
      "9                  \"ABDON COSTA\"   12325,6   \n",
      "\n",
      "                                       NMCENTROCUSTO  \n",
      "0  \"360000 - PENSAO ESPECIAL/EDILICA OU SERVENTUA...  \n",
      "1  \"360000 - PENSAO ESPECIAL/EDILICA OU SERVENTUA...  \n",
      "2  \"360000 - PENSAO ESPECIAL/EDILICA OU SERVENTUA...  \n",
      "3  \"360000 - PENSAO ESPECIAL/EDILICA OU SERVENTUA...  \n",
      "4  \"360000 - PENSAO ESPECIAL/EDILICA OU SERVENTUA...  \n",
      "5  \"360000 - PENSAO ESPECIAL/EDILICA OU SERVENTUA...  \n",
      "6  \"360000 - PENSAO ESPECIAL/EDILICA OU SERVENTUA...  \n",
      "7  \"360000 - PENSAO ESPECIAL/EDILICA OU SERVENTUA...  \n",
      "8  \"360000 - PENSAO ESPECIAL/EDILICA OU SERVENTUA...  \n",
      "9  \"360000 - PENSAO ESPECIAL/EDILICA OU SERVENTUA...  \n"
     ]
    }
   ],
   "source": [
    "print(df_test) "
   ]
  },
  {
   "cell_type": "code",
   "execution_count": null,
   "id": "a90ea77c-4282-4538-9973-3360a06a8aeb",
   "metadata": {},
   "outputs": [],
   "source": []
  }
 ],
 "metadata": {
  "kernelspec": {
   "display_name": "Python 3 (ipykernel)",
   "language": "python",
   "name": "python3"
  },
  "language_info": {
   "codemirror_mode": {
    "name": "ipython",
    "version": 3
   },
   "file_extension": ".py",
   "mimetype": "text/x-python",
   "name": "python",
   "nbconvert_exporter": "python",
   "pygments_lexer": "ipython3",
   "version": "3.8.17"
  }
 },
 "nbformat": 4,
 "nbformat_minor": 5
}
